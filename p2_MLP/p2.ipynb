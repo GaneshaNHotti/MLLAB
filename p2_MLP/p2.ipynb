{
 "cells": [
  {
   "cell_type": "code",
   "execution_count": 1,
   "id": "0c9dc558",
   "metadata": {},
   "outputs": [
    {
     "name": "stdout",
     "output_type": "stream",
     "text": [
      "Demo [3. 9.]\n",
      "[[0.66666667 1.        ]\n",
      " [0.33333333 0.55555556]\n",
      " [1.         0.66666667]]\n",
      "[[0.92]\n",
      " [0.86]\n",
      " [0.89]]\n",
      "(3, 2)\n",
      "Input: \n",
      "[[0.66666667 1.        ]\n",
      " [0.33333333 0.55555556]\n",
      " [1.         0.66666667]]\n",
      "Actual Output: \n",
      "[[0.92]\n",
      " [0.86]\n",
      " [0.89]]\n",
      "Predicted Output: \n",
      " [[0.85933652]\n",
      " [0.83839621]\n",
      " [0.86171999]]\n"
     ]
    }
   ],
   "source": [
    "import numpy as np\n",
    "X = np.array(([2, 9], [1, 5], [3, 6]), dtype=float)\n",
    "y = np.array(([92], [86], [89]), dtype=float)\n",
    "deno = np.amax(X,axis=0)\n",
    "print(\"Demo\",deno)\n",
    "X = X/deno\n",
    "y = y/100\n",
    "print(X)\n",
    "print(y)\n",
    "\n",
    "\n",
    "\n",
    "def sigmoid (x):\n",
    "    return 1/(1 + np.exp(-x))\n",
    "\n",
    "def derivatives_sigmoid(x): \n",
    "    return x * (1 - x)\n",
    "\n",
    "iteration = 100\n",
    "error_rate =0.1\n",
    "inputlayer_neurons = 2\n",
    "hiddenlayer_neurons = 3\n",
    "output_neurons = 1\n",
    "\n",
    "\n",
    "weight_hidden = np.random.uniform(size=(inputlayer_neurons,hiddenlayer_neurons))\n",
    "bias_hidden = np.random.uniform(size=(1,hiddenlayer_neurons))\n",
    "weight_output = np.random.uniform(size=(hiddenlayer_neurons,output_neurons))\n",
    "bias_output = np.random.uniform(size=(1,output_neurons))\n",
    "print(X.shape)\n",
    "\n",
    "for i in range(iteration):\n",
    "    hidden_input=np.dot(X,weight_hidden)\n",
    "    hidden_input =hidden_input + bias_hidden\n",
    "    output_hidden_layer = sigmoid( hidden_input)\n",
    "    actual_output = np.dot(output_hidden_layer,weight_output)+bias_output\n",
    "    y_output = sigmoid(actual_output)\n",
    "    \n",
    "    \n",
    "    \n",
    "    EO = y-y_output\n",
    "    outgrad = derivatives_sigmoid(y_output)\n",
    "    d_output = EO* outgrad\n",
    "    EH = d_output.dot(weight_output.T)\n",
    "    hiddengrad = derivatives_sigmoid(output_hidden_layer)\n",
    "    d_hiddenlayer = EH * hiddengrad\n",
    "    \n",
    "    weight_output += output_hidden_layer.T.dot(d_output) *error_rate \n",
    "    weight_hidden += X.T.dot(d_hiddenlayer) *error_rate\n",
    "\n",
    "print(\"Input: \\n\" + str(X)) \n",
    "print(\"Actual Output: \\n\" + str(y))\n",
    "print(\"Predicted Output: \\n\" ,y_output)"
   ]
  },
  {
   "cell_type": "code",
   "execution_count": null,
   "id": "a7a0e670",
   "metadata": {},
   "outputs": [],
   "source": []
  }
 ],
 "metadata": {
  "kernelspec": {
   "display_name": "Python 3",
   "language": "python",
   "name": "python3"
  },
  "language_info": {
   "codemirror_mode": {
    "name": "ipython",
    "version": 3
   },
   "file_extension": ".py",
   "mimetype": "text/x-python",
   "name": "python",
   "nbconvert_exporter": "python",
   "pygments_lexer": "ipython3",
   "version": "3.8.8"
  }
 },
 "nbformat": 4,
 "nbformat_minor": 5
}
