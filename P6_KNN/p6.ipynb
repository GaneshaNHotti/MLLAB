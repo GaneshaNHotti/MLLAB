{
 "cells": [
  {
   "cell_type": "code",
   "execution_count": 1,
   "id": "1319a349",
   "metadata": {},
   "outputs": [
    {
     "name": "stdout",
     "output_type": "stream",
     "text": [
      "Iris-virginica\n",
      "[109]\n",
      "Iris-virginica\n",
      "[109, 125, 129]\n",
      "Iris-virginica\n"
     ]
    }
   ],
   "source": [
    "import pandas as pd\n",
    "import numpy as np\n",
    "import math\n",
    "import operator\n",
    "data = pd.read_csv(\"iris.csv\")\n",
    "names = ['sepal-length', 'sepal-width', 'petal-length', 'petal-width', 'Class']\n",
    "#data = pd.read_csv(url, names=names)\n",
    "data.head()\n",
    "\n",
    "def euclideanDistance(data1, data2, length):\n",
    "  distance = 0\n",
    "  for x in range(length):\n",
    "    distance += np.square(data1[x] - data2[x])\n",
    "    return np.sqrt(distance)\n",
    "\n",
    "\n",
    "def knn(trainingSet, testInstance, k):\n",
    "  distances = {}\n",
    "  sort = {}\n",
    "  length = testInstance.shape[1]\n",
    "  for x in range(len(trainingSet)):\n",
    "    dist = euclideanDistance(testInstance, trainingSet.iloc[x], length)\n",
    "    distances[x] = dist[0]\n",
    "    sorted_d = sorted(distances.items(), key=operator.itemgetter(1))\n",
    "    neighbors = []\n",
    "  for x in range(k):\n",
    "    neighbors.append(sorted_d[x][0])\n",
    "    classVotes = {}\n",
    "  for x in range(len(neighbors)):\n",
    "    response = trainingSet.iloc[neighbors[x]][-1]\n",
    "    if response in classVotes:\n",
    "      classVotes[response] += 1\n",
    "    else:\n",
    "      classVotes[response] = 1\n",
    "    sortedVotes = sorted(classVotes.items(), key=operator.itemgetter(1))\n",
    "    return(sortedVotes[0][0], neighbors)\n",
    "\n",
    "testSet = [[7.2, 3.6, 5.1, 2.5]]\n",
    "test = pd.DataFrame(testSet)\n",
    "\n",
    "\n",
    "k = 1\n",
    "result,neigh = knn(data, test, k)\n",
    "print(result)\n",
    "\n",
    "print(neigh)\n",
    "\n",
    "\n",
    "k = 3\n",
    "result,neigh = knn(data, test, k)\n",
    "print(result)\n",
    "\n",
    "print(neigh)\n",
    "\n",
    "\n",
    "k = 5\n",
    "result,neigh = knn(data, test, k)\n",
    "print(result)"
   ]
  },
  {
   "cell_type": "code",
   "execution_count": null,
   "id": "ecd60841",
   "metadata": {},
   "outputs": [],
   "source": []
  }
 ],
 "metadata": {
  "kernelspec": {
   "display_name": "Python 3",
   "language": "python",
   "name": "python3"
  },
  "language_info": {
   "codemirror_mode": {
    "name": "ipython",
    "version": 3
   },
   "file_extension": ".py",
   "mimetype": "text/x-python",
   "name": "python",
   "nbconvert_exporter": "python",
   "pygments_lexer": "ipython3",
   "version": "3.8.8"
  }
 },
 "nbformat": 4,
 "nbformat_minor": 5
}
